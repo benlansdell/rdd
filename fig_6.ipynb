{
 "cells": [
  {
   "cell_type": "markdown",
   "metadata": {},
   "source": [
    "## S conditioned on H distribution"
   ]
  },
  {
   "cell_type": "code",
   "execution_count": 34,
   "metadata": {},
   "outputs": [
    {
     "name": "stdout",
     "output_type": "stream",
     "text": [
      "Populating the interactive namespace from numpy and matplotlib\n"
     ]
    }
   ],
   "source": [
    "%pylab inline\n",
    "pylab.rcParams['figure.figsize'] = (10, 6)\n",
    "\n",
    "#%matplotlib inline\n",
    "\n",
    "import matplotlib\n",
    "import numpy as np\n",
    "import matplotlib.pyplot as plt\n",
    "import numpy.random as rand\n",
    "from sklearn.kernel_ridge import KernelRidge\n",
    "from sklearn import linear_model\n",
    "from pandas.plotting import autocorrelation_plot as autocorr\n",
    "import pandas as pd\n",
    "\n",
    "import statsmodels as sm\n",
    "import seaborn as sns\n",
    "\n",
    "from lib.lif import LIF, ParamsLIF, LSM, ParamsLSM\n",
    "from lib.causal import causaleffect, causaleffect_linear"
   ]
  },
  {
   "cell_type": "code",
   "execution_count": 75,
   "metadata": {
    "collapsed": true
   },
   "outputs": [],
   "source": [
    "q = 3                      #Dimension of learnt vector\n",
    "dt = 0.001                 #Simulation timestep\n",
    "DeltaT = 50               #Number of timebins over which learning rule is applied\n",
    "tsim = 1000                #Total simulation time\n",
    "T = int((tsim/dt)/DeltaT)  #Number of learning blocks\n",
    "Nsims = 3                  #Number of repeated simulations\n",
    "x_input = 0                #Input\n",
    "n = 2                      #Number of neurons\n",
    "sigma = 10                 #Their noise level\n",
    "sigma_perturb = 20        #Perturbation noise level\n",
    "mu = 1                     #Spiking threshold\n",
    "tau = 1                    #Neuron timescale\n",
    "eta = 1                    #Cost gradient learning rate (RDD)\n",
    "epsilon = 2e5              #Weight learning rate (RDD)\n",
    "epsilon_np = 1e-1          #Weight learning rate (NP)\n",
    "epsilon_np_baseline = 1e-1 #Weight learning rate with baseline (NP)\n",
    "tau_s = 0.20               #Output filter timescale\n",
    "\n",
    "c = 0.99                   #Correlation coefficient\n",
    "p = 0.1                    #Learning window\n",
    "\n",
    "N = 19\n",
    "wmax = 20\n",
    "wmin = 2\n",
    "\n",
    "sigma = 10\n",
    "mu = 1\n",
    "tau = 1\n",
    "params = ParamsLIF(sigma = sigma, mu = mu, tau = tau)\n",
    "t = 500\n",
    "lif = LIF(params, t = t)"
   ]
  },
  {
   "cell_type": "code",
   "execution_count": 112,
   "metadata": {},
   "outputs": [
    {
     "name": "stdout",
     "output_type": "stream",
     "text": [
      "0.00221199216929\n",
      "0.0025150289023\n"
     ]
    }
   ],
   "source": [
    "print 1./DeltaT*(1 - np.exp(-DeltaT*dt/(tau_s)))/2\n",
    "print exp_filter[0]"
   ]
  },
  {
   "cell_type": "code",
   "execution_count": 76,
   "metadata": {
    "collapsed": true
   },
   "outputs": [],
   "source": [
    "#Simulate for 500s, plot ISI distribution for a set of weights\n",
    "w = np.array([10, 12])\n",
    "\n",
    "lif.W = w\n",
    "(v, h, _, _, u) = lif.simulate()\n",
    "\n",
    "#Compute s\n",
    "len_h = h.shape[1]\n",
    "t_filter = np.linspace(0, 1, 2000)\n",
    "exp_filter = np.exp(-t_filter/tau_s)\n",
    "exp_filter = exp_filter/np.sum(exp_filter)\n",
    "ds = exp_filter[0]\n",
    "s1 = np.convolve(h[0,:], exp_filter)[0:len_h]\n",
    "s2 = np.convolve(h[1,:], exp_filter)[0:len_h]"
   ]
  },
  {
   "cell_type": "code",
   "execution_count": 77,
   "metadata": {
    "collapsed": true
   },
   "outputs": [],
   "source": [
    "#Reshape s1 and h\n",
    "s_r = s1[:].reshape((-1, DeltaT))\n",
    "S = np.squeeze(s_r[:,-1])\n",
    "\n",
    "s_r2 = s2[:].reshape((-1, DeltaT))\n",
    "S2 = np.squeeze(s_r2[:,-1])\n",
    "\n",
    "H_r = h[0,:].reshape((-1, DeltaT))\n",
    "H = np.max(H_r, 1)\n",
    "\n",
    "H_r2 = h[1,:].reshape((-1, DeltaT))\n",
    "H2 = np.max(H_r2, 1)"
   ]
  },
  {
   "cell_type": "markdown",
   "metadata": {},
   "source": [
    "## Is stationary distribution of S1 shifted by a fixed amount in spiking bins?"
   ]
  },
  {
   "cell_type": "code",
   "execution_count": 100,
   "metadata": {},
   "outputs": [
    {
     "data": {
      "image/png": "[encoded data removed]",
      "text/plain": [
       "<matplotlib.figure.Figure at 0x7f6594f34810>"
      ]
     },
     "metadata": {},
     "output_type": "display_data"
    }
   ],
   "source": [
    "nsamps = min(np.sum(H == 0), np.sum(H == 1))\n",
    "fig,ax1 = plt.subplots(1,1,figsize = (4,4))\n",
    "sm.graphics.gofplots.qqplot_2samples(np.random.choice(S[H == 0], nsamps), np.random.choice(S[H == 1], nsamps), line='45', ax = ax1)\n",
    "plt.savefig('./fig_s1_a.pdf')"
   ]
  },
  {
   "cell_type": "code",
   "execution_count": 51,
   "metadata": {},
   "outputs": [
    {
     "data": {
      "image/png": "[encoded data removed]",
      "text/plain": [
       "<matplotlib.figure.Figure at 0x7f6594f0be50>"
      ]
     },
     "metadata": {},
     "output_type": "display_data"
    }
   ],
   "source": [
    "fig, ax1 = plt.subplots(1,1)\n",
    "ax1.hist(S[H == 0], 20, normed=1, alpha = 0.5);\n",
    "ax1.hist(S[H == 1], 20, normed=1, alpha = 0.5);"
   ]
  },
  {
   "cell_type": "markdown",
   "metadata": {},
   "source": [
    "## Is offset robust to changes in firing rate?"
   ]
  },
  {
   "cell_type": "code",
   "execution_count": 58,
   "metadata": {},
   "outputs": [
    {
     "name": "stdout",
     "output_type": "stream",
     "text": [
      "0\n",
      "1\n",
      "2\n",
      "3\n",
      "4\n",
      "5\n",
      "6\n",
      "7\n",
      "8\n",
      "9\n",
      "10\n",
      "11\n",
      "12\n",
      "13\n",
      "14\n",
      "15\n",
      "16\n",
      "17\n",
      "18\n",
      "19\n",
      "0\n",
      "1\n",
      "2\n",
      "3\n",
      "4\n",
      "5\n",
      "6\n",
      "7\n",
      "8\n",
      "9\n",
      "10\n",
      "11\n",
      "12\n",
      "13\n",
      "14\n",
      "15\n",
      "16\n",
      "17\n",
      "18\n",
      "19\n"
     ]
    }
   ],
   "source": [
    "## Is the offset robust to changes in firing rate?\n",
    "N = 20\n",
    "wvals = np.linspace(2, 20, N)\n",
    "\n",
    "c = 0.99\n",
    "diffsc_0_99 = np.zeros(N)\n",
    "ratesc_0_99 = np.zeros(N)\n",
    "\n",
    "lif.params.c = c\n",
    "\n",
    "for idx, wval in enumerate(wvals):\n",
    "    print idx\n",
    "    lif.W[0] = wval\n",
    "    (v, h, _, _, u) = lif.simulate()\n",
    "    s1 = np.convolve(h[0,:], exp_filter)[0:len_h]\n",
    "    s_r = s1[:].reshape((-1, DeltaT))\n",
    "    S = np.squeeze(s_r[:,-1])\n",
    "    H_r = h[0,:].reshape((-1, DeltaT))\n",
    "    H = np.sum(H_r, 1)\n",
    "    diffsc_0_99[idx] = np.mean(S[H == 1]) - np.mean(S[H == 0])\n",
    "    ratesc_0_99[idx] = np.sum(h)\n",
    "    \n",
    "diffsc_0_01 = np.zeros(N)\n",
    "ratesc_0_01 = np.zeros(N)\n",
    "\n",
    "c = 0.01\n",
    "lif.params.c = c\n",
    "\n",
    "for idx, wval in enumerate(wvals):\n",
    "    print idx\n",
    "    lif.W[0] = wval\n",
    "    (v, h, _, _, u) = lif.simulate()\n",
    "    s1 = np.convolve(h[0,:], exp_filter)[0:len_h]\n",
    "    s_r = s1[:].reshape((-1, DeltaT))\n",
    "    S = np.squeeze(s_r[:,-1])\n",
    "    H_r = h[0,:].reshape((-1, DeltaT))\n",
    "    H = np.sum(H_r, 1)\n",
    "    diffsc_0_01[idx] = np.mean(S[H == 1]) - np.mean(S[H == 0])\n",
    "    ratesc_0_01[idx] = np.sum(h)"
   ]
  },
  {
   "cell_type": "code",
   "execution_count": 54,
   "metadata": {},
   "outputs": [
    {
     "data": {
      "text/plain": [
       "<matplotlib.text.Text at 0x7f6594e13f90>"
      ]
     },
     "execution_count": 54,
     "metadata": {},
     "output_type": "execute_result"
    },
    {
     "data": {
      "image/png": "[encoded data removed]",
      "text/plain": [
       "<matplotlib.figure.Figure at 0x7f6594fe6d90>"
      ]
     },
     "metadata": {},
     "output_type": "display_data"
    }
   ],
   "source": [
    "plt.plot(rates/tsim, diffs)\n",
    "plt.ylim([0, 0.003])\n",
    "plt.title(\"$\\mathbb{E}(S|h= 1) - \\mathbb{E}(S|h=0)$. c = 0.01\")\n",
    "plt.xlabel(\"Firing rate\")"
   ]
  },
  {
   "cell_type": "code",
   "execution_count": 149,
   "metadata": {},
   "outputs": [
    {
     "data": {
      "text/plain": [
       "<matplotlib.lines.Line2D at 0x7f658d358450>"
      ]
     },
     "execution_count": 149,
     "metadata": {},
     "output_type": "execute_result"
    },
    {
     "data": {
      "image/png": "[encoded data removed]",
      "text/plain": [
       "<matplotlib.figure.Figure at 0x7f658d408690>"
      ]
     },
     "metadata": {},
     "output_type": "display_data"
    }
   ],
   "source": [
    "fig,ax1 = plt.subplots(1,1,figsize = (4,4))\n",
    "ds1 = exp_filter[0]\n",
    "ds = 1./DeltaT*(1 - np.exp(-DeltaT*dt/(tau_s)))/2\n",
    "#ds = 1/T*(1 - np.exp(-T/tauS))\n",
    "sns.tsplot(data = diffsc_0_99/ds, time = ratesc_0_99/tsim, ax = ax1)\n",
    "sns.tsplot(data = diffsc_0_01/ds, time = ratesc_0_01/tsim, ax = ax1, color = 'C1')\n",
    "ax1.set_xlabel(\"Firing rate (Hz)\")\n",
    "ax1.set_ylim([0, 1.5]);\n",
    "ax1.set_ylabel('beta')\n",
    "ax1.set_title(\"$\\mathbb{E}(S|h= 1) - \\mathbb{E}(S|h=0)$\")\n",
    "sns.despine(ax = ax1, trim = True)\n",
    "ax1.legend({'c = 0.01', 'c = 0.99'})\n",
    "plt.savefig('./fig_s1_c.pdf')\n",
    "ax1.axhline(y = 1, color = (0,0,0))"
   ]
  },
  {
   "cell_type": "markdown",
   "metadata": {},
   "source": [
    "## What is the theoretical term $\\Delta_s$?"
   ]
  },
  {
   "cell_type": "code",
   "execution_count": 150,
   "metadata": {},
   "outputs": [],
   "source": [
    "#Compute causal effect for range of DeltaT and tau_s values\n",
    "N = 51\n",
    "deltas = np.array([10, 20, 50, 100, 200])\n",
    "M = deltas.shape[0]\n",
    "tauss = np.logspace(-2, -0.5, N)\n",
    "\n",
    "#Run a long simulation\n",
    "lif.W = w\n",
    "(v, h, _, _, u) = lif.simulate()\n",
    "\n",
    "#Compute s\n",
    "len_h = h.shape[1]\n",
    "\n",
    "ce = np.zeros((M,N))\n",
    "ce_theory = np.zeros((M,N))\n",
    "\n",
    "#Convolve according to taus, bin according to deltas, compute causal effect\n",
    "for idx, DeltaT in enumerate(deltas):\n",
    "    for idx2, tau_s in enumerate(tauss):\n",
    "        t_filter = np.linspace(0, 5, 5000)\n",
    "        exp_filter = np.exp(-t_filter/tau_s)\n",
    "        exp_filter = exp_filter/np.sum(exp_filter)\n",
    "        ds = exp_filter[0]\n",
    "        s1 = np.convolve(h[0,:], exp_filter)[0:len_h]\n",
    "        s_r = s1[:].reshape((-1, DeltaT))\n",
    "        S = np.squeeze(s_r[:,-1])\n",
    "        H_r = h[0,:].reshape((-1, DeltaT))\n",
    "        H = np.sum(H_r, 1)\n",
    "        ce[idx,idx2] = np.mean(S[H == 1]) - np.mean(S[H == 0])\n",
    "        #Compare this to the theoretcal effect\n",
    "        ce_theory[idx,idx2] = 1./DeltaT*(1 - np.exp(-DeltaT*dt/(tau_s)))"
   ]
  },
  {
   "cell_type": "code",
   "execution_count": 152,
   "metadata": {},
   "outputs": [
    {
     "data": {
      "image/png": "[encoded data removed]",
      "text/plain": [
       "<matplotlib.figure.Figure at 0x7f658d174110>"
      ]
     },
     "metadata": {},
     "output_type": "display_data"
    }
   ],
   "source": [
    "fig, ax = plt.subplots(1,1,figsize = (5,5))\n",
    "ax.plot(ce.reshape((-1,1)), ce_theory.reshape((-1,1)), '.')\n",
    "ax.plot([0,0.06], [0, 0.06], 'k')\n",
    "ax.set_xlabel('$\\Delta_s$ theory')\n",
    "ax.set_ylabel('$\\Delta_s$ observed')\n",
    "sns.despine(trim = True, ax = ax)\n",
    "plt.savefig('./fig_s1_d.pdf')"
   ]
  },
  {
   "cell_type": "code",
   "execution_count": 180,
   "metadata": {},
   "outputs": [],
   "source": [
    "#Plot the deltas surface as a function of DeltaT and tau_s\n",
    "N = 51\n",
    "M = 51\n",
    "deltas = np.linspace(10, 100, M)\n",
    "#tauss = np.logspace(-2, -1, N)\n",
    "tauss = np.linspace(0.01, 0.1, N)\n",
    "ce_theory = np.zeros((M,N))\n",
    "\n",
    "for idx, DeltaT in enumerate(deltas):\n",
    "    for idx2, tau_s in enumerate(tauss):\n",
    "        ce_theory[idx,idx2] = 1./DeltaT*(1 - np.exp(-DeltaT*dt/(tau_s)))"
   ]
  },
  {
   "cell_type": "code",
   "execution_count": 183,
   "metadata": {},
   "outputs": [
    {
     "data": {
      "image/png": "[encoded data removed]",
      "text/plain": [
       "<matplotlib.figure.Figure at 0x7f65872ce250>"
      ]
     },
     "metadata": {},
     "output_type": "display_data"
    }
   ],
   "source": [
    "#Plot it\n",
    "fig, ax = plt.subplots(1, 1, figsize = (5,5))\n",
    "a = ax.contourf(ce_theory, 40, extent = [0.01, .1, 10*dt, 100*dt])\n",
    "plt.colorbar(a)\n",
    "ax.set_xlabel('tau_s (s)')\n",
    "ax.set_ylabel('Delta_s (s)')\n",
    "ax.set_title('')\n",
    "plt.savefig('./fig_s1_e.pdf')"
   ]
  },
  {
   "cell_type": "code",
   "execution_count": null,
   "metadata": {
    "collapsed": true
   },
   "outputs": [],
   "source": [
    "\n"
   ]
  }
 ],
 "metadata": {
  "kernelspec": {
   "display_name": "Python [default]",
   "language": "python",
   "name": "python2"
  },
  "language_info": {
   "codemirror_mode": {
    "name": "ipython",
    "version": 2
   },
   "file_extension": ".py",
   "mimetype": "text/x-python",
   "name": "python",
   "nbconvert_exporter": "python",
   "pygments_lexer": "ipython2",
   "version": "2.7.13"
  }
 },
 "nbformat": 4,
 "nbformat_minor": 2
}
